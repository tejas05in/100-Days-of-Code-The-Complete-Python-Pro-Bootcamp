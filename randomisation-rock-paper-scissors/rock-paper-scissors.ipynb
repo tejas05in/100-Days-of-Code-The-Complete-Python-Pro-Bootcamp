{
 "cells": [
  {
   "cell_type": "code",
   "execution_count": 1,
   "metadata": {},
   "outputs": [],
   "source": [
    "import random\n",
    "import my_module"
   ]
  },
  {
   "cell_type": "code",
   "execution_count": 2,
   "metadata": {},
   "outputs": [
    {
     "name": "stdout",
     "output_type": "stream",
     "text": [
      "3\n",
      "3.14159246\n"
     ]
    }
   ],
   "source": [
    "random_integer = random.randint(1, 10)\n",
    "print(random_integer)\n",
    "print(my_module.pi)"
   ]
  },
  {
   "cell_type": "code",
   "execution_count": 27,
   "metadata": {},
   "outputs": [
    {
     "name": "stdout",
     "output_type": "stream",
     "text": [
      "0.7918205801541941\n"
     ]
    }
   ],
   "source": [
    "# random float\n",
    "random_float = random.random()\n",
    "print(random_float)"
   ]
  },
  {
   "cell_type": "code",
   "execution_count": 38,
   "metadata": {},
   "outputs": [
    {
     "name": "stdout",
     "output_type": "stream",
     "text": [
      "3.18759120455836\n"
     ]
    }
   ],
   "source": [
    "# random decimal number bewteen 0 and 5\n",
    "random_float = random.random() * 5\n",
    "print(random_float)"
   ]
  },
  {
   "cell_type": "code",
   "execution_count": 42,
   "metadata": {},
   "outputs": [
    {
     "name": "stdout",
     "output_type": "stream",
     "text": [
      "Your love score is 13\n"
     ]
    }
   ],
   "source": [
    "love_score = random.randint(1, 100)\n",
    "print(f\"Your love score is {love_score}\")"
   ]
  },
  {
   "cell_type": "code",
   "execution_count": 53,
   "metadata": {},
   "outputs": [
    {
     "name": "stdout",
     "output_type": "stream",
     "text": [
      "Tails\n"
     ]
    }
   ],
   "source": [
    "# Code challenge - Heads or Tails\n",
    "random_side = random.randint(0, 1)\n",
    "if random_side == 1:\n",
    "    print(\"Heads\")\n",
    "else:    \n",
    "    print(\"Tails\")"
   ]
  },
  {
   "cell_type": "markdown",
   "metadata": {},
   "source": [
    "## LISTS"
   ]
  },
  {
   "cell_type": "code",
   "execution_count": 8,
   "metadata": {},
   "outputs": [
    {
     "name": "stdout",
     "output_type": "stream",
     "text": [
      "Alaska\n"
     ]
    }
   ],
   "source": [
    "states_of_america = ['Delaware','Pennsylvania','New Jersey','Georgia','Connecticut',\n",
    "    'Massachusetts','Maryland','South Carolina','New Hampshire','Virginia','New York','North Carolina',\n",
    "    'Rhode Island','Vermont','Kentucky','Tennessee','Ohio','Louisiana','Indiana','Mississippi','Illinois',\n",
    "    'Alabama','Maine','Missouri','Arkansas','Michigan','Florida','Texas','Iowa','Wisconsin','California',\n",
    "    'Minnesota','Oregon','Kansas','West Virginia','Nevada','Nebraska','Colorado','North Dakota','South Dakota',\n",
    "    'Montana','Washington','Idaho','Wyoming','Utah','Oklahoma','New Mexico','Arizona','Alaska','Hawaii']\n",
    "print(states_of_america[-2])"
   ]
  },
  {
   "cell_type": "code",
   "execution_count": 9,
   "metadata": {},
   "outputs": [
    {
     "name": "stdout",
     "output_type": "stream",
     "text": [
      "['Delaware', 'Pennsylvania', 'New Jersey', 'Georgia', 'Connecticut', 'Massachusetts', 'Maryland', 'South Carolina', 'New Hampshire', 'Virginia', 'New York', 'North Carolina', 'Rhode Island', 'Vermont', 'Kentucky', 'Tennessee', 'Ohio', 'Louisiana', 'Indiana', 'Mississippi', 'Illinois', 'Alabama', 'Maine', 'Missouri', 'Arkansas', 'Michigan', 'Florida', 'Texas', 'Iowa', 'Wisconsin', 'California', 'Minnesota', 'Oregon', 'Kansas', 'West Virginia', 'Nevada', 'Nebraska', 'Colorado', 'North Dakota', 'South Dakota', 'Montana', 'Washington', 'Idaho', 'Wyoming', 'Utah', 'Oklahoma', 'New Mexico', 'Arizona', 'Alaska', 'Hawaii', 'Puerto Rico']\n"
     ]
    }
   ],
   "source": [
    "states_of_america.append(\"Puerto Rico\")\n",
    "print(states_of_america)    "
   ]
  },
  {
   "cell_type": "code",
   "execution_count": 10,
   "metadata": {},
   "outputs": [],
   "source": [
    "states_of_america.extend([\"Guam\", \"American Samoa\", \"U.S. Virgin Islands\", \"Northern Mariana Islands\"])"
   ]
  },
  {
   "cell_type": "code",
   "execution_count": 11,
   "metadata": {},
   "outputs": [
    {
     "data": {
      "text/plain": [
       "['Delaware',\n",
       " 'Pennsylvania',\n",
       " 'New Jersey',\n",
       " 'Georgia',\n",
       " 'Connecticut',\n",
       " 'Massachusetts',\n",
       " 'Maryland',\n",
       " 'South Carolina',\n",
       " 'New Hampshire',\n",
       " 'Virginia',\n",
       " 'New York',\n",
       " 'North Carolina',\n",
       " 'Rhode Island',\n",
       " 'Vermont',\n",
       " 'Kentucky',\n",
       " 'Tennessee',\n",
       " 'Ohio',\n",
       " 'Louisiana',\n",
       " 'Indiana',\n",
       " 'Mississippi',\n",
       " 'Illinois',\n",
       " 'Alabama',\n",
       " 'Maine',\n",
       " 'Missouri',\n",
       " 'Arkansas',\n",
       " 'Michigan',\n",
       " 'Florida',\n",
       " 'Texas',\n",
       " 'Iowa',\n",
       " 'Wisconsin',\n",
       " 'California',\n",
       " 'Minnesota',\n",
       " 'Oregon',\n",
       " 'Kansas',\n",
       " 'West Virginia',\n",
       " 'Nevada',\n",
       " 'Nebraska',\n",
       " 'Colorado',\n",
       " 'North Dakota',\n",
       " 'South Dakota',\n",
       " 'Montana',\n",
       " 'Washington',\n",
       " 'Idaho',\n",
       " 'Wyoming',\n",
       " 'Utah',\n",
       " 'Oklahoma',\n",
       " 'New Mexico',\n",
       " 'Arizona',\n",
       " 'Alaska',\n",
       " 'Hawaii',\n",
       " 'Puerto Rico',\n",
       " 'Guam',\n",
       " 'American Samoa',\n",
       " 'U.S. Virgin Islands',\n",
       " 'Northern Mariana Islands']"
      ]
     },
     "execution_count": 11,
     "metadata": {},
     "output_type": "execute_result"
    }
   ],
   "source": [
    "states_of_america"
   ]
  },
  {
   "cell_type": "code",
   "execution_count": 14,
   "metadata": {},
   "outputs": [
    {
     "name": "stdout",
     "output_type": "stream",
     "text": [
      "angela is going to buy the meal today!\n"
     ]
    }
   ],
   "source": [
    "# code challenge Banker Roulette - Who's paying the bill\n",
    "name_strings = input(\"Give me everybody's names, separated by a comma. \")\n",
    "names = name_strings.split(\", \")\n",
    "num_items = len(names)\n",
    "random_choice = random.randint(0, num_items - 1)\n",
    "print(f\"{names[random_choice]} is going to buy the meal today!\")"
   ]
  },
  {
   "cell_type": "code",
   "execution_count": 2,
   "metadata": {},
   "outputs": [],
   "source": [
    "rock = '''\n",
    "    _______\n",
    "---'   ____)\n",
    "      (_____)\n",
    "      (_____)\n",
    "      (____)\n",
    "---.__(___)\n",
    "'''\n",
    "\n",
    "paper = '''\n",
    "    _______\n",
    "---'   ____)____\n",
    "          ______)\n",
    "          _______)\n",
    "         _______)\n",
    "---.__________)\n",
    "'''\n",
    "\n",
    "scissors = '''\n",
    "    _______\n",
    "---'   ____)____\n",
    "          ______)\n",
    "       __________)\n",
    "      (____)\n",
    "---.__(___)\n",
    "'''"
   ]
  },
  {
   "cell_type": "code",
   "execution_count": null,
   "metadata": {},
   "outputs": [],
   "source": []
  }
 ],
 "metadata": {
  "kernelspec": {
   "display_name": "Python 3",
   "language": "python",
   "name": "python3"
  },
  "language_info": {
   "codemirror_mode": {
    "name": "ipython",
    "version": 3
   },
   "file_extension": ".py",
   "mimetype": "text/x-python",
   "name": "python",
   "nbconvert_exporter": "python",
   "pygments_lexer": "ipython3",
   "version": "3.11.2"
  }
 },
 "nbformat": 4,
 "nbformat_minor": 2
}
